{
  "cells": [
    {
      "cell_type": "markdown",
      "id": "42048fa0",
      "metadata": {
        "id": "42048fa0"
      },
      "source": [
        "# 1. Introdução a grafos\n",
        "\n",
        "\n",
        "A análise de redes espaciais é uma área de estudo que tem como objetivo investigar a organização e a conectividade de elementos espaciais, seja no contexto de infraestruturas urbanas, distribuição de recursos naturais ou fluxos de informação. A modelagem de relações espaciais por meio de grafos constitui uma abordagem útil para descrever e analisar a complexidade das interações geográficas.\n",
        "\n",
        "Os grafos são estruturas matemáticas fundamentais na representação e análise de relações e conexões em diversas áreas do conhecimento. A ideia central de um grafo consiste em um conjunto de nós (ou vértices) conectados por arestas (ou ligações), que podem representar diversas situações reais, como redes de transportes, redes elétricas, redes sociais e, especialmente, redes espaciais. Neste capítulo, vamos explorar os conceitos básicos de grafos e mostrar como eles podem ser aplicados à análise espacial de redes, utilizando o Python e a biblioteca NetworkX.\n",
        "\n",
        "O capítulo é organizado para introduzir, de forma progressiva, os conceitos fundamentais de grafos, incluindo vértices, arestas, graus, componentes conectados e o papel de diferentes tipos de grafos, como grafos direcionados e não direcionados. Você também aprenderá como construir grafos simples e representativos utilizando a biblioteca NetworkX, explorando suas principais funções e como elas podem ser utilizadas para responder a perguntas específicas sobre redes espaciais.\n",
        "\n",
        "\n",
        "\n",
        "## 1.1 Fundamentos sobre Grafos\n",
        "\n",
        "Um grafo é uma estrutura composta por um conjunto de vértices (ou nós) e um conjunto de arestas (ou ligações) que conectam esses vértices. Formalmente, um grafo **G** é definido como **G = (V, E)**, onde **V** é o conjunto de vértices e **E** é o conjunto de arestas que conectam pares de vértices. As arestas podem representar relações de diversos tipos, como conexões físicas, caminhos ou qualquer tipo de vínculo entre os elementos representados pelos nós.\n",
        "\n",
        "Grafos são amplamente utilizados em diversas áreas do conhecimento, pois permitem modelar relações e interações de forma intuitiva e visual. Na ciência da computação, são usados para representar redes de computadores, estrutura de dados e algoritmos. Na engenharia, grafos são utilizados para modelar redes de transporte e distribuição, como redes elétricas, sistemas de água e esgoto, e redes de tráfego. Nas ciências sociais, são usados para analisar redes de amizade e interações sociais. Em geografia e análise espacial, grafos ajudam a representar redes espaciais, como estradas, rios e sistemas urbanos.\n",
        "\n",
        "\n",
        "Existem diferentes tipos de grafos, cada um com suas características e aplicações específicas:\n",
        "\n",
        "- **Grafos não direcionados**: Neste tipo de grafo, as arestas não possuem uma direção específica, ou seja, a relação entre os nós é bidirecional. Um exemplo típico de grafo não direcionado é uma rede de estradas, onde é possível trafegar em ambos os sentidos entre duas cidades conectadas.  \n",
        "\n",
        "![Descrição da Imagem](https://github.com/Alexandrogschafer/spatial_network_analysis/blob/gh-pages/images/figura1.png?raw=1)\n",
        "\n",
        "\n",
        "- **Grafos direcionados (ou dígrafos)**: Nos grafos direcionados, as arestas possuem uma direção, representando uma relação unidirecional entre os nós. Um exemplo comum é a representação de rotas de voo, onde uma aresta conecta duas cidades, mas apenas em uma direção específica.  \n",
        "\n",
        "![Descrição da Imagem](https://github.com/Alexandrogschafer/spatial_network_analysis/blob/gh-pages/images/figura2.png?raw=1)\n",
        "\n",
        "- **Grafos ponderados**: Nos grafos ponderados, cada aresta tem um valor associado, chamado de peso, que pode representar a distância, o custo ou qualquer outra medida relevante. Por exemplo, em uma rede de transporte, o peso da aresta pode representar a distância entre duas localidades ou o tempo necessário para percorrê-la.\n",
        "\n",
        "![Descrição da Imagem](https://github.com/Alexandrogschafer/spatial_network_analysis/blob/gh-pages/images/figura3.png?raw=1)\n",
        "\n",
        "- **Grafos não ponderados**: Neste caso, as arestas não possuem pesos associados, ou seja, todas as conexões são consideradas equivalentes.  \n",
        "\n",
        "- **Grafos simples e multigrafos**: Um grafo simples é aquele em que existe, no máximo, uma aresta entre dois nós, e não há laços (arestas que conectam um nó a ele mesmo). Já um multigrafo permite múltiplas arestas entre os mesmos nós, podendo representar, por exemplo, diferentes rotas entre duas cidades.  \n",
        "\n",
        "![Descrição da Imagem](https://github.com/Alexandrogschafer/spatial_network_analysis/blob/gh-pages/images/figura4.png?raw=1)\n",
        "\n",
        "- **Grafos completos**: Um grafo completo é aquele em que todos os nós estão conectados a todos os outros nós. Esses grafos são úteis para estudar cenários em que cada elemento se relaciona diretamente com todos os demais.  \n",
        "\n",
        "![Descrição da Imagem](https://github.com/Alexandrogschafer/spatial_network_analysis/blob/gh-pages/images/figura5.png?raw=1)\n",
        "\n",
        "\n",
        "Esses diferentes tipos de grafos permitem modelar uma ampla variedade de problemas e situações.\n",
        "\n",
        "\n",
        "\n",
        "## 1.2 A biblioteca NetworkX do Python\n",
        "\n",
        "O Python é amplamente utilizado para a análise espacial de redes. Uma das principais razões é a possibilidade de automatização e reprodutibilidade, já que Python permite a criação de scripts que processam dados de forma consistente, ideal para análises repetidas ou pipelines automatizados. Além disso, o Python oferece controle total sobre o processo analítico, o que proporciona flexibilidade na customização de algoritmos e ajustes que muitas vezes não são possíveis em ferramentas SIG Desktop.\n",
        "\n",
        "Outro diferencial importante do Python é a ampla gama de bibliotecas disponíveis, como **NetworkX**, **OSMnx** e **GeoPandas**, que permitem manipular grafos e dados geoespaciais com grande flexibilidade. A escalabilidade também é uma vantagem significativa, pois Python pode lidar com grandes volumes de dados e permitir o uso de técnicas de programação paralela, algo que um SIG Desktop, com sua interface gráfica, pode enfrentar limitações.\n",
        "\n",
        "Python se destaca ainda pela sua capacidade de integração com outras ferramentas e fluxos de trabalho, como bibliotecas de aprendizado de máquina (**scikit-learn**) e visualização de dados (**matplotlib**), oferecendo uma solução mais robusta e completa para análises complexas. Além disso, a customização e flexibilidade que Python proporciona são incomparáveis, permitindo a adaptação do código a necessidades muito específicas. Por fim, a possibilidade de executar Python em ambientes não gráficos torna-o ideal para pipelines automatizados e execuções em servidores ou na nuvem. Esses fatores fazem com que Python seja uma escolha vantajosa quando há necessidade de personalização, automação, escalabilidade e controle total sobre o processo analítico, enquanto um SIG Desktop pode ser mais limitado nessas questões.\n",
        "\n",
        "No ecossistema do Python, o **NetworkX** é uma biblioteca em Python voltada para a criação, manipulação e análise de grafos e redes complexas. Ele oferece ferramentas eficientes para modelar e estudar redes em diversas áreas, como redes sociais, infraestrutura urbana, sistemas biológicos e redes de transporte. Entre seus principais recursos, destaca-se o suporte à criação de diferentes tipos de grafos, como grafos simples, dígrafos (grafos direcionados) e multigrafos (com múltiplas arestas entre dois nós), permitindo que nós e arestas possuam atributos associados, como rótulos, pesos ou distâncias.\n",
        "\n",
        "A biblioteca também possibilita a adição, remoção e modificação de nós e arestas, além de permitir consultas sobre a estrutura do grafo, como vizinhança e grau de conexão. O **NetworkX** oferece uma gama de algoritmos para a análise de redes, incluindo caminhos mínimos, medidas de centralidade, detecção de componentes conexos e identificação de comunidades. Adicionalmente, permite a importação e exportação de grafos em formatos comuns, como **GraphML**, **GML** e **Edgelist**, facilitando a integração com outras ferramentas. Embora a visualização de grafos não seja seu foco principal, a biblioteca inclui funcionalidades básicas de visualização compatíveis com o **Matplotlib**. O **NetworkX** é amplamente utilizado tanto em pesquisas acadêmicas quanto em projetos práticos, sendo uma ferramenta flexível e poderosa para a análise de redes e grafos.\n",
        "\n",
        "Ao longo deste capítulo, vamos explorar como criar e manipular esses diferentes tipos de grafos, utilizando a biblioteca **NetworkX**, para que você possa compreender suas características e como aplicá-los na análise espacial de redes.\n",
        "\n",
        "Vamos fazer **três exercícios práticos** que permitirão aplicar os conceitos discutidos anteriormente. O primeiro exercício será a criação de um grafo simples; o segundo, de um digrafo; e, finalmente, no terceiro exercício, trabalharemos com um multigrafo. Esses exemplos práticos ajudarão a solidificar sua compreensão sobre os diferentes tipos de grafos e suas aplicações na análise espacial de redes, utilizando a biblioteca **NetworkX**.\n",
        "\n",
        "\n",
        "\n",
        "\n",
        "\n",
        "\n",
        "\n",
        "\n",
        "## 1.3 Criando e Manipulando um Grafo Simples\n",
        "\n",
        "Neste exercício, você aprenderá a criar um grafo não direcionado no Python utilizando a biblioteca `networkx`. O foco será a criação de um grafo que represente algumas capitais do Brasil e suas conexões, explorando ferramentas básicas de `networkx` ao longo do processo. Além disso, será abordada a inclusão de atributos como a população das capitais e a manipulação de nós e arestas. No final, o grafo será visualizado, com ênfase nas conexões e nos atributos associados a nós e arestas.\n",
        "\n",
        "Inicialmente, vamos importar as bibliotecas necessárias para criar e visualizar o grafo. Utilizaremos a biblioteca `networkx` para manipulação de grafos e `matplotlib` para visualização."
      ]
    },
    {
      "cell_type": "code",
      "execution_count": 1,
      "id": "04d30316",
      "metadata": {
        "id": "04d30316"
      },
      "outputs": [],
      "source": [
        "import networkx as nx\n",
        "import matplotlib.pyplot as plt"
      ]
    },
    {
      "cell_type": "markdown",
      "id": "403fec88",
      "metadata": {
        "id": "403fec88"
      },
      "source": [
        "Agora, vamos criar um grafo vazio e adicionar alguns atributos globais, como a data de criação, o nome do projeto e a versão. Esses atributos são úteis para registrar informações sobre o grafo, ajudando a documentar quando e para que finalidade ele foi criado."
      ]
    },
    {
      "cell_type": "code",
      "execution_count": null,
      "id": "84616698",
      "metadata": {
        "id": "84616698"
      },
      "outputs": [],
      "source": [
        "# Criando um grafo vazio\n",
        "G = nx.Graph()\n",
        "\n",
        "# Adicionando atributos globais ao grafo, como data de criação, nome do projeto e versão\n",
        "G.graph['data_criacao'] = '2024-01-02'  # Data de criação do grafo\n",
        "G.graph['projeto'] = 'Análise de Capitais Brasileiras'  # Nome do projeto\n",
        "G.graph['versao'] = '1.0'  # Versão do grafo\n",
        "\n",
        "# Exibindo os atributos globais do grafo\n",
        "print(\"Atributos do grafo G:\")\n",
        "print(G.graph)  # Imprime o dicionário contendo os atributos globais do grafo"
      ]
    },
    {
      "cell_type": "markdown",
      "id": "559dc492",
      "metadata": {
        "id": "559dc492"
      },
      "source": [
        "Neste código, estamos criando e configurando um grafo utilizando a biblioteca `networkx`.\n",
        "\n",
        "- **Criação do grafo**: A primeira linha cria um grafo vazio chamado `G` utilizando a **classe** `Graph` da biblioteca `networkx`. Esse grafo será usado para representar um conjunto de nós e conexões (arestas) entre eles.\n",
        "\n",
        "- **Atributos globais**: Em seguida, estamos adicionando três atributos globais ao grafo:\n",
        "  - `data_criacao`: Define a data de criação do grafo.\n",
        "  - `projeto`: Especifica o nome do projeto relacionado ao grafo.\n",
        "  - `versao`: Indica a versão atual do grafo.\n",
        "\n",
        "Esses atributos são úteis para fornecer informações sobre o grafo como um todo, facilitando o acompanhamento e documentação do projeto.\n",
        "\n",
        "- **Exibição dos atributos**: Por fim, o código imprime os atributos globais do grafo como um dicionário, permitindo visualizar as informações adicionadas ao grafo.\n",
        "\n",
        "Em seguida, vamos adicionar alguns nós ao grafo, representando as capitais da região sudeste do Brasil. Aqui, estamos apenas incluindo os nós correspondentes às cidades, sem ainda definir conexões entre elas."
      ]
    },
    {
      "cell_type": "code",
      "execution_count": null,
      "id": "61a3c41e",
      "metadata": {
        "id": "61a3c41e"
      },
      "outputs": [],
      "source": [
        "G.add_node('São Paulo')\n",
        "G.add_node('Rio de Janeiro')\n",
        "G.add_node('Belo Horizonte')\n",
        "G.add_node('Vitória')"
      ]
    },
    {
      "cell_type": "markdown",
      "id": "6c879ca2",
      "metadata": {
        "id": "6c879ca2"
      },
      "source": [
        "O comando `G.add_node('São Paulo')` adiciona um nó ao grafo `G` com o rótulo **'São Paulo'**. Neste contexto, **'São Paulo'** representa uma cidade, que será tratada como um vértice no grafo.\n",
        "\n",
        "Agora que já temos os nós no grafo, vamos visualizá-los. Nesta visualização inicial, exibiremos apenas os nós, sem as conexões (arestas) entre eles. Para isso, utilizamos um layout de disposição dos nós e exibimos suas posições no gráfico."
      ]
    },
    {
      "cell_type": "code",
      "execution_count": null,
      "id": "ae028397",
      "metadata": {
        "id": "ae028397"
      },
      "outputs": [],
      "source": [
        "pos = nx.spring_layout(G, seed=42)\n",
        "plt.figure(figsize=(8, 6))\n",
        "nx.draw_networkx_nodes(G, pos, node_color='lightblue', node_size=3000)\n",
        "nx.draw_networkx_labels(G, pos, font_size=10, font_weight='bold')\n",
        "plt.title(\"Capitais do Sudeste (Apenas Nós)\")\n",
        "plt.show()"
      ]
    },
    {
      "cell_type": "markdown",
      "id": "cb6577da",
      "metadata": {
        "id": "cb6577da"
      },
      "source": [
        "No código acima:\n",
        "\n",
        "- `pos = nx.spring_layout(G, seed=42)`: Gera as posições dos nós do grafo `G` utilizando o layout de mola (**spring layout**), que distribui os nós de forma equilibrada no espaço, simulando forças físicas. O parâmetro `seed=42` garante que a disposição dos nós será sempre a mesma, facilitando a reprodução do gráfico.\n",
        "\n",
        "- `plt.figure(figsize=(8, 6))`: Cria uma nova figura para o gráfico com um tamanho de 8x6 polegadas, especificando as dimensões da visualização.\n",
        "\n",
        "- `nx.draw_networkx_nodes(G, pos, node_color='lightblue', node_size=3000)`: Desenha os nós do grafo `G` utilizando as posições definidas em `pos`. Os nós serão visualizados na cor azul-claro (`lightblue`) com um tamanho de 3000 unidades.\n",
        "\n",
        "- `nx.draw_networkx_labels(G, pos, font_size=10, font_weight='bold')`: Adiciona rótulos aos nós com um tamanho de fonte de 10 e com estilo em negrito (`font_weight='bold`), permitindo identificar cada nó pelo seu nome.\n",
        "\n",
        "- `plt.title(\"Capitais do Sudeste (Apenas Nós)\")`: Define o título do gráfico como \"Capitais do Sudeste (Apenas Nós)\", indicando que estamos visualizando apenas os nós (as capitais), sem suas conexões.\n",
        "\n",
        "- `plt.show()`: Exibe o gráfico gerado na janela de visualização.\n",
        "\n",
        "Agora, vamos adicionar o atributo de população a cada nó, representando o número de habitantes de cada capital. Isso permitirá que cada nó tenha uma informação adicional útil para análises futuras:"
      ]
    },
    {
      "cell_type": "code",
      "execution_count": null,
      "id": "e5ab53e3",
      "metadata": {
        "id": "e5ab53e3"
      },
      "outputs": [],
      "source": [
        "G.nodes['São Paulo']['populacao'] = 12396372\n",
        "G.nodes['Rio de Janeiro']['populacao'] = 6747815\n",
        "G.nodes['Belo Horizonte']['populacao'] = 2521564\n",
        "G.nodes['Vitória']['populacao'] = 365855"
      ]
    },
    {
      "cell_type": "markdown",
      "id": "5b787f7c",
      "metadata": {
        "id": "5b787f7c"
      },
      "source": [
        "No código acima, `G.nodes['São Paulo']['populacao'] = 12396372` adiciona ou define um atributo chamado **'populacao'** para o nó **'São Paulo'** no grafo `G`, com o valor de **12.396.372** (representando a população da cidade).\n",
        "\n",
        "Em seguida, vamos consultar o número de nós presentes no grafo, juntamente com seus atributos, para confirmar que os dados foram inseridos corretamente:"
      ]
    },
    {
      "cell_type": "code",
      "execution_count": null,
      "id": "9962b33f",
      "metadata": {
        "id": "9962b33f"
      },
      "outputs": [],
      "source": [
        "print(\"Nós no grafo G:\")\n",
        "print(G.nodes(data=True))"
      ]
    },
    {
      "cell_type": "markdown",
      "id": "45a44a64",
      "metadata": {
        "id": "45a44a64"
      },
      "source": [
        "No código acima:\n",
        "\n",
        "- `print(G.nodes(data=True))`: Exibe todos os nós presentes no grafo `G`, juntamente com seus atributos. O parâmetro `data=True` faz com que o `networkx` imprima os dados associados a cada nó (como atributos que foram adicionados, por exemplo, a população no caso de São Paulo). O resultado será uma lista de tuplas, onde cada tupla contém o nome do nó e um dicionário com os atributos e seus respectivos valores.\n",
        "\n",
        "Agora, vamos atualizar a visualização dos nós, incluindo o número de habitantes (população) associado a cada capital. Dessa forma, a visualização será mais informativa:"
      ]
    },
    {
      "cell_type": "code",
      "execution_count": null,
      "id": "7fa4ce42",
      "metadata": {
        "id": "7fa4ce42"
      },
      "outputs": [],
      "source": [
        "labels = {n: f\"{n}\\nPop: {G.nodes[n]['populacao']}\" for n in G.nodes()}\n",
        "plt.figure(figsize=(8, 6))\n",
        "nx.draw_networkx_nodes(G, pos, node_color='lightblue', node_size=3000)\n",
        "nx.draw_networkx_labels(G, pos, labels, font_size=10, font_weight='bold')\n",
        "plt.title(\"Capitais do Sudeste com População\")\n",
        "plt.show()"
      ]
    },
    {
      "cell_type": "markdown",
      "id": "76044432",
      "metadata": {
        "id": "76044432"
      },
      "source": [
        "Para remover um nó do grafo, podemos utilizar a função `remove_node()`. Por exemplo, vamos remover o nó \"Rio de Janeiro\":"
      ]
    },
    {
      "cell_type": "code",
      "execution_count": null,
      "id": "aca264f3",
      "metadata": {
        "id": "aca264f3"
      },
      "outputs": [],
      "source": [
        "G.remove_node('Rio de Janeiro')"
      ]
    },
    {
      "cell_type": "markdown",
      "id": "bbcf6dd0",
      "metadata": {
        "id": "bbcf6dd0"
      },
      "source": [
        "Agora seu markdown está formatado corretamente com células de código executável identificadas para Jupyter Book.\n",
        "\n",
        "\n",
        "Aqui está o markdown revisado com as células de código executável corretamente formatadas para o Jupyter Book:\n",
        "\n",
        "Após a remoção do nó, vamos plotar o grafo novamente para verificar o resultado, observando a ausência de \"Rio de Janeiro\" no grafo:"
      ]
    },
    {
      "cell_type": "code",
      "execution_count": null,
      "id": "7dcd8267",
      "metadata": {
        "id": "7dcd8267"
      },
      "outputs": [],
      "source": [
        "pos = nx.spring_layout(G, seed=42)\n",
        "\n",
        "plt.figure(figsize=(8, 6))\n",
        "nx.draw(G, pos, with_labels=True, node_color='lightblue', node_size=3000, font_size=10, font_weight='bold')\n",
        "plt.title(\"Capitais do Sudeste sem Rio de Janeiro\")\n",
        "plt.show()"
      ]
    },
    {
      "cell_type": "markdown",
      "id": "e0081515",
      "metadata": {
        "id": "e0081515"
      },
      "source": [
        "Agora que vimos como a função `remove_node()` funciona, vamos inserir novamente o nó referente ao **Rio de Janeiro** no grafo, adicionando também o atributo de população, com a função `add_node()`:"
      ]
    },
    {
      "cell_type": "code",
      "execution_count": null,
      "id": "50b17d45",
      "metadata": {
        "id": "50b17d45"
      },
      "outputs": [],
      "source": [
        "# Adicionando o nó referente ao Rio de Janeiro\n",
        "G.add_node('Rio de Janeiro', populacao=6747815)"
      ]
    },
    {
      "cell_type": "markdown",
      "id": "bdf8f1b8",
      "metadata": {
        "id": "bdf8f1b8"
      },
      "source": [
        "Em seguida, vamos plotar novamente o grafo para verificar a inclusão do nó **Rio de Janeiro**:"
      ]
    },
    {
      "cell_type": "code",
      "execution_count": null,
      "id": "f5dc4faa",
      "metadata": {
        "id": "f5dc4faa"
      },
      "outputs": [],
      "source": [
        "pos = nx.spring_layout(G, seed=42)\n",
        "plt.figure(figsize=(8, 6))\n",
        "nx.draw(G, pos, with_labels=True, node_color='lightblue', node_size=3000, font_size=10, font_weight='bold')\n",
        "plt.title(\"Capitais do Sudeste com a Inclusão do Rio de Janeiro\")\n",
        "plt.show()"
      ]
    },
    {
      "cell_type": "markdown",
      "id": "adf29047",
      "metadata": {
        "id": "adf29047"
      },
      "source": [
        "Agora, vamos adicionar as **arestas** que conectam as capitais entre si, usando a função `add_edge()`. Cada aresta representa uma conexão entre duas cidades:"
      ]
    },
    {
      "cell_type": "code",
      "execution_count": null,
      "id": "e34deecd",
      "metadata": {
        "id": "e34deecd"
      },
      "outputs": [],
      "source": [
        "G.add_edge('São Paulo', 'Rio de Janeiro')\n",
        "G.add_edge('São Paulo', 'Belo Horizonte')\n",
        "G.add_edge('Rio de Janeiro', 'Belo Horizonte')\n",
        "G.add_edge('Rio de Janeiro', 'Vitória')\n",
        "G.add_edge('Belo Horizonte', 'Vitória')"
      ]
    },
    {
      "cell_type": "markdown",
      "id": "8e8b358d",
      "metadata": {
        "id": "8e8b358d"
      },
      "source": [
        "No código acima, `G.add_edge('São Paulo', 'Rio de Janeiro')` adiciona uma **aresta** (conexão) entre os nós **'São Paulo'** e **'Rio de Janeiro'** no grafo `G`. Se os nós ainda não existirem no grafo, eles serão automaticamente criados antes de estabelecer a conexão.\n",
        "\n",
        "Com as conexões estabelecidas, podemos visualizar o grafo completo, mostrando não só os nós, mas também as conexões entre as capitais:"
      ]
    },
    {
      "cell_type": "code",
      "execution_count": null,
      "id": "9bfcf86b",
      "metadata": {
        "id": "9bfcf86b"
      },
      "outputs": [],
      "source": [
        "plt.figure(figsize=(8, 6))\n",
        "nx.draw(G, pos, with_labels=True, node_color='lightblue', node_size=3000, font_size=10, font_weight='bold')\n",
        "plt.title(\"Capitais do Sudeste e Conexões\")\n",
        "plt.show()"
      ]
    },
    {
      "cell_type": "markdown",
      "id": "f6630f73",
      "metadata": {
        "id": "f6630f73"
      },
      "source": [
        "Agora, vamos contar quantas **arestas** existem no grafo, ou seja, quantas conexões foram feitas entre as capitais. Para tanto, usamos a função `number_of_edges()`:"
      ]
    },
    {
      "cell_type": "code",
      "execution_count": null,
      "id": "31897e4e",
      "metadata": {
        "id": "31897e4e"
      },
      "outputs": [],
      "source": [
        "numero_arestas_G = G.number_of_edges()\n",
        "print(f\"Número de arestas no grafo G: {numero_arestas_G}\")"
      ]
    },
    {
      "cell_type": "markdown",
      "id": "51b505fd",
      "metadata": {
        "id": "51b505fd"
      },
      "source": [
        "Em seguida, vamos adicionar o atributo `distancia` a cada aresta, representando a distância aproximada entre as capitais conectadas. Isso nos permitirá ter informações mais detalhadas sobre as conexões:"
      ]
    },
    {
      "cell_type": "code",
      "execution_count": null,
      "id": "9896a87a",
      "metadata": {
        "id": "9896a87a"
      },
      "outputs": [],
      "source": [
        "G.edges['São Paulo', 'Rio de Janeiro']['distancia'] = 430\n",
        "G.edges['São Paulo', 'Belo Horizonte']['distancia'] = 590\n",
        "G.edges['Rio de Janeiro', 'Belo Horizonte']['distancia'] = 440\n",
        "G.edges['Rio de Janeiro', 'Vitória']['distancia'] = 520\n",
        "G.edges['Belo Horizonte', 'Vitória']['distancia'] = 530"
      ]
    },
    {
      "cell_type": "markdown",
      "id": "6c93764c",
      "metadata": {
        "id": "6c93764c"
      },
      "source": [
        "`G.edges['São Paulo', 'Rio de Janeiro']['distancia'] = 430`: este comando adiciona ou define um atributo chamado **'distancia'** para a aresta que conecta os nós **'São Paulo'** e **'Rio de Janeiro'** no grafo `G`.\n",
        "\n",
        "Agora, podemos exibir todas as arestas e seus atributos, como as distâncias entre as capitais, para garantir que os dados foram inseridos corretamente:"
      ]
    },
    {
      "cell_type": "code",
      "execution_count": null,
      "id": "4abcd000",
      "metadata": {
        "id": "4abcd000"
      },
      "outputs": [],
      "source": [
        "print(\"Arestas no grafo G com atributos:\")\n",
        "print(G.edges(data=True))"
      ]
    },
    {
      "cell_type": "markdown",
      "id": "ba2da6de",
      "metadata": {
        "id": "ba2da6de"
      },
      "source": [
        "`print(G.edges(data=True))`: este comando exibe todas as arestas presentes no grafo `G`, juntamente com seus atributos. O parâmetro `data=True` faz com que o `networkx` imprima os dados associados a cada aresta (como atributos que foram adicionados, por exemplo, a distância entre **São Paulo** e **Rio de Janeiro**). O resultado será uma lista de tuplas, onde cada tupla contém os dois nós conectados pela aresta e um dicionário com os atributos e seus respectivos valores.\n",
        "\n",
        "Com isso, conseguimos visualizar as conexões entre as capitais, juntamente com os atributos associados a cada aresta, como a distância. Isso nos dá uma base sólida para realizar futuras análises no grafo.\n",
        "\n",
        "Agora, vamos visualizar novamente o grafo, desta vez incluindo as distâncias nas arestas que conectam as capitais:"
      ]
    },
    {
      "cell_type": "code",
      "execution_count": null,
      "id": "92a5d162",
      "metadata": {
        "id": "92a5d162"
      },
      "outputs": [],
      "source": [
        "pos = nx.spring_layout(G, seed=42)\n",
        "plt.figure(figsize=(8, 6))\n",
        "nx.draw(G, pos, with_labels=True, node_color='lightblue', node_size=3000, font_size=10, font_weight='bold')\n",
        "\n",
        "# Obter as distâncias como rótulos das arestas\n",
        "edge_labels = nx.get_edge_attributes(G, 'distancia')\n",
        "nx.draw_networkx_edge_labels(G, pos, edge_labels=edge_labels)\n",
        "\n",
        "plt.title(\"Capitais do Sudeste com Distâncias nas Arestas\")\n",
        "plt.show()"
      ]
    },
    {
      "cell_type": "markdown",
      "id": "840a4513",
      "metadata": {
        "id": "840a4513"
      },
      "source": [
        "Em seguida, vamos acessar uma aresta específica, neste caso, a conexão entre **São Paulo** e **Belo Horizonte**, para verificar a distância entre as duas capitais:"
      ]
    },
    {
      "cell_type": "code",
      "execution_count": null,
      "id": "4d09cf84",
      "metadata": {
        "id": "4d09cf84"
      },
      "outputs": [],
      "source": [
        "distancia_sp_bh = G.edges['São Paulo', 'Belo Horizonte']['distancia']\n",
        "print(f\"Distância entre São Paulo e Belo Horizonte: {distancia_sp_bh} km\")"
      ]
    },
    {
      "cell_type": "markdown",
      "id": "4f26794e",
      "metadata": {
        "id": "4f26794e"
      },
      "source": [
        "Se quisermos imprimir todas as arestas do grafo com suas respectivas distâncias, podemos percorrer todas as arestas e exibir suas informações:"
      ]
    },
    {
      "cell_type": "code",
      "execution_count": null,
      "id": "5aa4c069",
      "metadata": {
        "id": "5aa4c069"
      },
      "outputs": [],
      "source": [
        "for edge in G.edges(data=True):\n",
        "    print(f\"Aresta: {edge[0]} - {edge[1]}, Distância: {edge[2]['distancia']} km\")"
      ]
    },
    {
      "cell_type": "markdown",
      "id": "26eb58b0",
      "metadata": {
        "id": "26eb58b0"
      },
      "source": [
        "Agora, vamos remover uma aresta do grafo, especificamente a conexão entre **Belo Horizonte** e **Vitória**:"
      ]
    },
    {
      "cell_type": "code",
      "execution_count": null,
      "id": "9ba368b6",
      "metadata": {
        "id": "9ba368b6"
      },
      "outputs": [],
      "source": [
        "G.remove_edge('Belo Horizonte', 'Vitória')"
      ]
    },
    {
      "cell_type": "markdown",
      "id": "a65b2b5d",
      "metadata": {
        "id": "a65b2b5d"
      },
      "source": [
        "Em seguida, vamos plotar o grafo novamente para verificar a remoção da conexão entre essas duas capitais:"
      ]
    },
    {
      "cell_type": "code",
      "execution_count": null,
      "id": "50e82a7a",
      "metadata": {
        "id": "50e82a7a"
      },
      "outputs": [],
      "source": [
        "pos = nx.spring_layout(G, seed=42)\n",
        "plt.figure(figsize=(8, 6))\n",
        "nx.draw(G, pos, with_labels=True, node_color='lightblue', node_size=3000, font_size=10, font_weight='bold')\n",
        "edge_labels = nx.get_edge_attributes(G, 'distancia')\n",
        "nx.draw_networkx_edge_labels(G, pos, edge_labels=edge_labels)\n",
        "plt.title(\"Capitais do Sudeste com Distâncias nas Arestas (Após Remoção)\")\n",
        "plt.show()"
      ]
    },
    {
      "cell_type": "markdown",
      "id": "1c24e290",
      "metadata": {
        "id": "1c24e290"
      },
      "source": [
        "Agora que vimos como a função `remove_edge()` funciona, podemos adicionar novamente a aresta removida, restabelecendo a conexão entre **Belo Horizonte** e **Vitória**:"
      ]
    },
    {
      "cell_type": "code",
      "execution_count": null,
      "id": "b82167c1",
      "metadata": {
        "id": "b82167c1"
      },
      "outputs": [],
      "source": [
        "G.add_edge('Belo Horizonte', 'Vitória', distancia=530)"
      ]
    },
    {
      "cell_type": "markdown",
      "id": "1c0632cd",
      "metadata": {
        "id": "1c0632cd"
      },
      "source": [
        "Vamos plotar o grafo novamente para confirmar a inclusão dessa aresta:"
      ]
    },
    {
      "cell_type": "code",
      "execution_count": null,
      "id": "866a1ed5",
      "metadata": {
        "id": "866a1ed5"
      },
      "outputs": [],
      "source": [
        "pos = nx.spring_layout(G, seed=42)\n",
        "plt.figure(figsize=(8, 6))\n",
        "nx.draw(G, pos, with_labels=True, node_color='lightblue', node_size=3000, font_size=10, font_weight='bold')\n",
        "edge_labels = nx.get_edge_attributes(G, 'distancia')\n",
        "nx.draw_networkx_edge_labels(G, pos, edge_labels=edge_labels)\n",
        "plt.title(\"Capitais do Sudeste com Distâncias nas Arestas (Atualizado)\")\n",
        "plt.show()"
      ]
    },
    {
      "cell_type": "markdown",
      "id": "cea32670",
      "metadata": {
        "id": "cea32670"
      },
      "source": [
        "Vamos adicionar a cidade de **Curitiba** ao grafo, junto com a informação da população:"
      ]
    },
    {
      "cell_type": "code",
      "execution_count": null,
      "id": "52a40951",
      "metadata": {
        "id": "52a40951"
      },
      "outputs": [],
      "source": [
        "G.add_node('Curitiba', populacao=1963726)"
      ]
    },
    {
      "cell_type": "markdown",
      "id": "5268ac89",
      "metadata": {
        "id": "5268ac89"
      },
      "source": [
        "Por fim, vamos plotar o grafo mais uma vez para incluir **Curitiba** entre as capitais existentes:"
      ]
    },
    {
      "cell_type": "code",
      "execution_count": null,
      "id": "a3e354b2",
      "metadata": {
        "id": "a3e354b2"
      },
      "outputs": [],
      "source": [
        "pos = nx.spring_layout(G, seed=42)\n",
        "plt.figure(figsize=(8, 6))\n",
        "nx.draw(G, pos, with_labels=True, node_color='lightblue', node_size=3000, font_size=10, font_weight='bold')\n",
        "\n",
        "# Exibir as distâncias das arestas já existentes\n",
        "edge_labels = nx.get_edge_attributes(G, 'distancia')\n",
        "nx.draw_networkx_edge_labels(G, pos, edge_labels=edge_labels)\n",
        "\n",
        "plt.title(\"Capitais do Sudeste com Curitiba\")\n",
        "plt.show()"
      ]
    },
    {
      "cell_type": "markdown",
      "id": "759e7311",
      "metadata": {
        "id": "759e7311"
      },
      "source": [
        "Com essas operações, você poderá visualizar o grafo atualizado, incluindo a cidade de **Curitiba** e suas conexões, além de garantir que as distâncias entre as capitais sejam claramente exibidas.  \n",
        "Vamos começar conectando **Curitiba** a **São Paulo**, adicionando uma aresta que representa a distância entre essas duas capitais:"
      ]
    },
    {
      "cell_type": "code",
      "execution_count": null,
      "id": "45db5d2d",
      "metadata": {
        "id": "45db5d2d"
      },
      "outputs": [],
      "source": [
        "G.add_edge('Curitiba', 'São Paulo', distancia=408)"
      ]
    },
    {
      "cell_type": "markdown",
      "id": "f70d7ef2",
      "metadata": {
        "id": "f70d7ef2"
      },
      "source": [
        "Em seguida, vamos plotar novamente o grafo para visualizar essa nova conexão:"
      ]
    },
    {
      "cell_type": "code",
      "execution_count": null,
      "id": "71130a0a",
      "metadata": {
        "id": "71130a0a"
      },
      "outputs": [],
      "source": [
        "pos = nx.spring_layout(G, seed=42)\n",
        "plt.figure(figsize=(8, 6))\n",
        "nx.draw(G, pos, with_labels=True, node_color='lightblue', node_size=3000, font_size=10, font_weight='bold')\n",
        "edge_labels = nx.get_edge_attributes(G, 'distancia')\n",
        "nx.draw_networkx_edge_labels(G, pos, edge_labels=edge_labels)\n",
        "plt.title(\"Capitais com Distâncias nas Arestas (Incluindo Curitiba - São Paulo)\")\n",
        "plt.show()"
      ]
    },
    {
      "cell_type": "markdown",
      "id": "5254787c",
      "metadata": {
        "id": "5254787c"
      },
      "source": [
        "Agora, vamos calcular o **grau** de cada nó, que indica o número de conexões (arestas) que cada cidade tem. Esse cálculo nos ajuda a entender a centralidade de cada capital no grafo:"
      ]
    },
    {
      "cell_type": "code",
      "execution_count": null,
      "id": "ce443de4",
      "metadata": {
        "id": "ce443de4"
      },
      "outputs": [],
      "source": [
        "print(\"Grau de todos os nós (número de conexões):\")\n",
        "print(dict(G.degree))"
      ]
    },
    {
      "cell_type": "markdown",
      "id": "f81ed191",
      "metadata": {
        "id": "f81ed191"
      },
      "source": [
        "Após visualizar o grau de todos os nós, vamos realizar uma verificação específica para **São Paulo**, consultando quais cidades estão diretamente conectadas a ela (nós adjacentes):"
      ]
    },
    {
      "cell_type": "code",
      "execution_count": null,
      "id": "e0238afb",
      "metadata": {
        "id": "e0238afb"
      },
      "outputs": [],
      "source": [
        "print(f\"Grau de São Paulo: {G.degree['São Paulo']}\")\n",
        "adjacencias_sao_paulo = G.adj['São Paulo']\n",
        "print(\"Nós adjacentes a São Paulo:\", list(adjacencias_sao_paulo))"
      ]
    },
    {
      "cell_type": "markdown",
      "id": "4d9dbb47",
      "metadata": {
        "id": "4d9dbb47"
      },
      "source": [
        "No código acima:\n",
        "\n",
        "- `G.degree['São Paulo']` retorna o **grau** do nó **'São Paulo'**, ou seja, o número de conexões (arestas) que **São Paulo** tem com outros nós no grafo `G`.\n",
        "- O `f-string` é utilizado para formatar a mensagem e exibir o grau de São Paulo.\n",
        "- `G.adj['São Paulo']` retorna os nós adjacentes a **São Paulo**, ou seja, as cidades que estão diretamente conectadas a ela por uma aresta.\n",
        "- O `list(adjacencias_sao_paulo)` converte o conjunto de nós adjacentes em uma lista, que é então impressa.\n",
        "\n",
        "Da mesma maneira, podemos verificar as cidades que estão diretamente conectadas a **Curitiba**:"
      ]
    },
    {
      "cell_type": "code",
      "execution_count": null,
      "id": "5a20d96f",
      "metadata": {
        "id": "5a20d96f"
      },
      "outputs": [],
      "source": [
        "print(f\"Grau de Curitiba: {G.degree['Curitiba']}\")\n",
        "adjacencias_curitiba = G.adj['Curitiba']\n",
        "print(\"Nós adjacentes a Curitiba:\", list(adjacencias_curitiba))"
      ]
    },
    {
      "cell_type": "markdown",
      "id": "ef92afa4",
      "metadata": {
        "id": "ef92afa4"
      },
      "source": [
        "Finalmente, para obter uma visão completa de todas as conexões no grafo, vamos gerar um **relatório de adjacências** usando o método `adj`. Esse relatório mostrará todas as conexões de cada cidade no grafo:"
      ]
    },
    {
      "cell_type": "code",
      "execution_count": null,
      "id": "446ec33f",
      "metadata": {
        "id": "446ec33f"
      },
      "outputs": [],
      "source": [
        "print(\"Relatório de adjacências de todo o grafo G:\")\n",
        "print(G.adj)"
      ]
    },
    {
      "cell_type": "markdown",
      "id": "16714275",
      "metadata": {
        "id": "16714275"
      },
      "source": [
        "## 1.4 Criando um Digrafo de Viagens entre Capitais Brasileiras\n",
        "\n",
        "Neste exercício, vamos explorar a criação e manipulação de um **digrafo** (grafo direcionado) utilizando o Python e a biblioteca `networkx`. O digrafo será utilizado para representar rotas de viagem entre capitais brasileiras, começando em **Curitiba** e finalizando em **Vitória**, passando por outras capitais. Além disso, será inserida uma ramificação que conectará **São Paulo** a **Belo Horizonte**. Cada aresta no digrafo representará uma viagem direcionada entre as capitais, e as distâncias entre essas cidades serão adicionadas como atributos das arestas.\n",
        "\n",
        "O principal objetivo é entender os conceitos de **grafos direcionados** e suas aplicações práticas, por meio de um exemplo concreto de viagens entre cidades. Durante o exercício, vamos trabalhar com diferentes características dos digrafos, como conexões direcionadas, graus de entrada e saída, além de sucessores e antecessores de cada nó.\n",
        "\n",
        "### Estrutura do Exercício:\n",
        "\n",
        "1. **Nós e Arestas**: Começaremos criando os nós, que representarão as capitais, e as arestas direcionadas, que representarão as viagens entre elas. A cada aresta, será atribuído um valor de distância, simulando a distância real entre as cidades.\n",
        "\n",
        "2. **Adjacências e Conexões**: Exploraremos como verificar as conexões diretas entre os nós. Isso nos permitirá identificar, por exemplo, quais cidades estão diretamente conectadas a outras e em que direção ocorre essa conexão.\n",
        "\n",
        "3. **Graus**: Vamos calcular o **grau de entrada** e o **grau de saída** de cada nó. O grau de entrada indica quantas cidades fazem uma viagem para essa capital, enquanto o grau de saída indica para quantas cidades essa capital faz viagens. Essa análise é importante para entender o papel de cada cidade dentro da rede de viagens.\n",
        "\n",
        "4. **Sucessores e Antecessores**: Analisaremos os **sucessores** (as cidades para as quais uma capital faz viagens) e os **antecessores** (as cidades que fazem viagens para uma capital), ajudando a entender a dinâmica de entrada e saída de cada capital na rede.\n",
        "\n",
        "\n",
        "\n",
        "Primeiro, vamos criar o nosso digrafo. Um digrafo é um grafo onde as arestas têm uma direção, representando uma viagem de uma cidade para outra."
      ]
    },
    {
      "cell_type": "code",
      "execution_count": null,
      "id": "9a5ecd8e",
      "metadata": {
        "id": "9a5ecd8e"
      },
      "outputs": [],
      "source": [
        "# Criando um digrafo (grafo direcionado)\n",
        "D_viagem = nx.DiGraph()"
      ]
    },
    {
      "cell_type": "markdown",
      "id": "0baf2175",
      "metadata": {
        "id": "0baf2175"
      },
      "source": [
        "No primeiro exercício, utilizamos a classe **`nx.Graph()`** para criar um grafo **não direcionado**, no qual as arestas (conexões) entre os nós não possuem direção específica. Ou seja, uma conexão entre dois nós é bidirecional, representando uma relação simétrica. Neste exercício, estamos usando **`nx.DiGraph()`**, que cria um **grafo direcionado** (ou digrafo). Nesse tipo de grafo, as arestas possuem direção, o que significa que a relação entre os nós é assimétrica.\n",
        "\n",
        "Agora, vamos adicionar os nós, que são as capitais envolvidas na nossa viagem, usando o método `add_node()`:"
      ]
    },
    {
      "cell_type": "code",
      "execution_count": null,
      "id": "dd6a24e1",
      "metadata": {
        "id": "dd6a24e1"
      },
      "outputs": [],
      "source": [
        "# Adicionando os nós (capitais)\n",
        "D_viagem.add_node('Curitiba')\n",
        "D_viagem.add_node('São Paulo')\n",
        "D_viagem.add_node('Rio de Janeiro')\n",
        "D_viagem.add_node('Belo Horizonte')\n",
        "D_viagem.add_node('Vitória')"
      ]
    },
    {
      "cell_type": "markdown",
      "id": "ae61586b",
      "metadata": {
        "id": "ae61586b"
      },
      "source": [
        "Vamos visualizar os nós do grafo antes de adicionar as conexões (arestas). Isso nos dará uma ideia de como as capitais estão dispostas inicialmente."
      ]
    },
    {
      "cell_type": "code",
      "execution_count": null,
      "id": "5aa78cb4",
      "metadata": {
        "id": "5aa78cb4"
      },
      "outputs": [],
      "source": [
        "# Plotando os nós (capitais) sem as arestas\n",
        "plt.figure(figsize=(10, 8))\n",
        "# Usando um layout para posicionar os nós\n",
        "pos = nx.spring_layout(D_viagem, seed=42)\n",
        "# Desenhando apenas os nós\n",
        "nx.draw_networkx_nodes(D_viagem, pos, node_color='lightblue', node_size=800)\n",
        "# Desenhando os rótulos (capitais)\n",
        "nx.draw_networkx_labels(D_viagem, pos, font_size=9, font_weight='bold')\n",
        "# Exibindo o gráfico\n",
        "plt.title(\"Capitais (Curitiba, São Paulo, Rio de Janeiro, Belo Horizonte, Vitória)\")\n",
        "plt.show()"
      ]
    },
    {
      "cell_type": "markdown",
      "id": "592357d6",
      "metadata": {
        "id": "592357d6"
      },
      "source": [
        "Agora, vamos adicionar as arestas direcionadas que representam as viagens de uma capital para outra, junto com as distâncias entre elas."
      ]
    },
    {
      "cell_type": "code",
      "execution_count": null,
      "id": "6602792d",
      "metadata": {
        "id": "6602792d"
      },
      "outputs": [],
      "source": [
        "# Adicionando as arestas direcionadas (viagem de Curitiba até Vitória)\n",
        "D_viagem.add_edge('Curitiba', 'São Paulo', distancia=408)  # Curitiba -> São Paulo\n",
        "D_viagem.add_edge('São Paulo', 'Rio de Janeiro', distancia=429)  # São Paulo -> Rio de Janeiro\n",
        "D_viagem.add_edge('Rio de Janeiro', 'Vitória', distancia=521)  # Rio de Janeiro -> Vitória"
      ]
    },
    {
      "cell_type": "markdown",
      "id": "8601933e",
      "metadata": {
        "id": "8601933e"
      },
      "source": [
        "No código acima, o comando `D_viagem.add_edge('Curitiba', 'São Paulo', distancia=408)` adiciona uma **aresta direcionada** ao digrafo `D_viagem`, representando uma viagem de **Curitiba** para **São Paulo**. A direção da aresta indica que a conexão é unidirecional, ou seja, de **Curitiba** para **São Paulo**. Além disso, um atributo adicional **'distancia'** é atribuído à aresta com o valor de **408**, que pode representar a distância entre as duas capitais em quilômetros.\n",
        "\n",
        "Vamos visualizar o grafo novamente, agora com as arestas que representam as viagens entre as capitais e as distâncias entre elas."
      ]
    },
    {
      "cell_type": "code",
      "execution_count": null,
      "id": "023faf04",
      "metadata": {
        "id": "023faf04"
      },
      "outputs": [],
      "source": [
        "# Plotando os nós e arestas\n",
        "plt.figure(figsize=(10, 8))\n",
        "# Usando um layout para organizar a posição dos nós\n",
        "pos = nx.spring_layout(D_viagem, seed=42)\n",
        "# Desenhando os nós\n",
        "nx.draw_networkx_nodes(D_viagem, pos, node_color='lightblue', node_size=800)\n",
        "# Desenhando as arestas direcionadas com setas\n",
        "nx.draw_networkx_edges(D_viagem, pos, edge_color='gray', width=2, arrows=True, arrowsize=20)\n",
        "# Desenhando os rótulos (capitais)\n",
        "nx.draw_networkx_labels(D_viagem, pos, font_size=9, font_weight='bold')\n",
        "# Adicionando rótulos de distâncias nas arestas\n",
        "edge_labels = nx.get_edge_attributes(D_viagem, 'distancia')\n",
        "nx.draw_networkx_edge_labels(D_viagem, pos, edge_labels=edge_labels)\n",
        "# Exibindo o gráfico\n",
        "plt.title(\"Viagem de Curitiba para Vitória (Arestas Direcionadas)\")\n",
        "plt.show()"
      ]
    },
    {
      "cell_type": "markdown",
      "id": "b719eefc",
      "metadata": {
        "id": "b719eefc"
      },
      "source": [
        "Agora, vamos adicionar uma ramificação na rota, de São Paulo para Belo Horizonte, conectando também Belo Horizonte a Vitória."
      ]
    },
    {
      "cell_type": "code",
      "execution_count": null,
      "id": "5d914947",
      "metadata": {
        "id": "5d914947"
      },
      "outputs": [],
      "source": [
        "# Adicionando a ramificação em São Paulo para Belo Horizonte\n",
        "D_viagem.add_edge('São Paulo', 'Belo Horizonte', distancia=586)  # São Paulo -> Belo Horizonte\n",
        "D_viagem.add_edge('Belo Horizonte', 'Vitória', distancia=524)  # Belo Horizonte -> Vitória"
      ]
    },
    {
      "cell_type": "markdown",
      "id": "9a052c46",
      "metadata": {
        "id": "9a052c46"
      },
      "source": [
        "Vamos visualizar o grafo completo, agora com a ramificação de São Paulo para Belo Horizonte e as distâncias nas novas arestas."
      ]
    },
    {
      "cell_type": "code",
      "execution_count": null,
      "id": "48def098",
      "metadata": {
        "id": "48def098"
      },
      "outputs": [],
      "source": [
        "# Plotando os nós e arestas\n",
        "plt.figure(figsize=(10, 8))\n",
        "pos = nx.spring_layout(D_viagem, seed=42)\n",
        "nx.draw_networkx_nodes(D_viagem, pos, node_color='lightblue', node_size=800)\n",
        "nx.draw_networkx_edges(D_viagem, pos, edge_color='gray', width=2, arrows=True, arrowsize=20)\n",
        "nx.draw_networkx_labels(D_viagem, pos, font_size=9, font_weight='bold')\n",
        "edge_labels = nx.get_edge_attributes(D_viagem, 'distancia')\n",
        "nx.draw_networkx_edge_labels(D_viagem, pos, edge_labels=edge_labels)\n",
        "plt.title(\"Viagem de Curitiba para Vitória com Ramificação para Belo Horizonte (Arestas Direcionadas)\")\n",
        "plt.show()"
      ]
    },
    {
      "cell_type": "markdown",
      "id": "b3b87810",
      "metadata": {
        "id": "b3b87810"
      },
      "source": [
        "Vamos começar exibindo todos os nós do grafo para garantir que todos foram adicionados corretamente."
      ]
    },
    {
      "cell_type": "code",
      "execution_count": null,
      "id": "3f1d1d2d",
      "metadata": {
        "id": "3f1d1d2d"
      },
      "outputs": [],
      "source": [
        "# Verificar os nós do grafo\n",
        "print(\"Nós no grafo:\", list(D_viagem.nodes))"
      ]
    },
    {
      "cell_type": "markdown",
      "id": "19962585",
      "metadata": {
        "id": "19962585"
      },
      "source": [
        "O comando `print(\"Nós no grafo:\", list(D_viagem.nodes))` exibe todos os nós presentes no digrafo `D_viagem`. A função `D_viagem.nodes` retorna uma visão geral dos nós, e o uso de `list()` converte essa visão em uma lista para facilitar a leitura. Essa instrução imprime todos os nós, ou seja, todas as capitais que foram adicionadas ao grafo.\n",
        "\n",
        "Depois de listar os nós, verifique as arestas do grafo e os atributos associados."
      ]
    },
    {
      "cell_type": "code",
      "execution_count": null,
      "id": "d11a189e",
      "metadata": {
        "id": "d11a189e"
      },
      "outputs": [],
      "source": [
        "# Verificar as arestas do grafo\n",
        "print(\"Arestas no grafo:\", list(D_viagem.edges(data=True)))"
      ]
    },
    {
      "cell_type": "markdown",
      "id": "98ca0e8b",
      "metadata": {
        "id": "98ca0e8b"
      },
      "source": [
        "No código acima, o comando `print(\"Arestas no grafo:\", list(D_viagem.edges(data=True)))` exibe todas as arestas presentes no digrafo `D_viagem`, juntamente com seus atributos. A função `D_viagem.edges(data=True)` retorna uma visão das arestas, incluindo os dados associados a elas (como a **distância**). O uso de `list()` converte essa visão em uma lista, facilitando a leitura e permitindo visualizar tanto as conexões entre os nós quanto os atributos de cada aresta.\n",
        "\n",
        "Agora vamos revisar as arestas do digrafo para garantir que todas as distâncias e demais atributos foram adicionados corretamente."
      ]
    },
    {
      "cell_type": "code",
      "execution_count": null,
      "id": "acda57d4",
      "metadata": {
        "id": "acda57d4"
      },
      "outputs": [],
      "source": [
        "# Exibir todas as arestas e seus atributos\n",
        "print(\"Arestas no digrafo com atributos:\")\n",
        "print(D_viagem.edges(data=True))"
      ]
    },
    {
      "cell_type": "markdown",
      "id": "7489bb9a",
      "metadata": {
        "id": "7489bb9a"
      },
      "source": [
        "O código `D_viagem.edges(data=True)` retorna todas as arestas presentes no digrafo **`D_viagem`**, juntamente com os atributos associados a cada aresta. O parâmetro **`data=True`** indica que, além de exibir os nós conectados pelas arestas, ele também deve exibir os dados (ou atributos) armazenados nessas conexões, como **distância** ou outros valores.\n",
        "\n",
        "Agora que já visualizamos os nós e arestas, vamos verificar as adjacências de cada nó para entender como eles estão conectados entre si."
      ]
    },
    {
      "cell_type": "code",
      "execution_count": null,
      "id": "be7bacb7",
      "metadata": {
        "id": "be7bacb7"
      },
      "outputs": [],
      "source": [
        "# Verificar as adjacências\n",
        "print(\"Adjacências de cada nó:\")\n",
        "for node in D_viagem.nodes:\n",
        "    print(f\"{node}: {list(D_viagem.adj[node])}\")"
      ]
    },
    {
      "cell_type": "markdown",
      "id": "8d281e4e",
      "metadata": {
        "id": "8d281e4e"
      },
      "source": [
        "O código percorre todos os nós do digrafo **`D_viagem`** e exibe as **adjacências** de cada nó, ou seja, os nós aos quais cada cidade (nó) está conectada diretamente.\n",
        "\n",
        "- **`D_viagem.adj[node]`**: O atributo **`adj`** retorna os nós adjacentes ao nó atual.\n",
        "- **`list(D_viagem.adj[node])`**: Converte a lista de nós adjacentes em uma lista comum.\n",
        "- **`print(f\"{node}: {list(D_viagem.adj[node])}\")`**: Exibe o nó atual e seus nós adjacentes. O `f-string` é usado para formatar a saída.\n",
        "\n",
        "Vamos exibir as adjacências específicas do nó **São Paulo** para detalhar melhor suas conexões diretas com outras capitais."
      ]
    },
    {
      "cell_type": "code",
      "execution_count": null,
      "id": "e44093ce",
      "metadata": {
        "id": "e44093ce"
      },
      "outputs": [],
      "source": [
        "# Exibir as adjacências de São Paulo\n",
        "print(\"Adjacências de São Paulo:\", list(D_viagem.adj['São Paulo']))"
      ]
    },
    {
      "cell_type": "markdown",
      "id": "820d1c3c",
      "metadata": {
        "id": "820d1c3c"
      },
      "source": [
        "Este código lista todos os nós (capitais) que estão diretamente conectados a **São Paulo** no digrafo, mostrando as cidades para as quais **São Paulo** possui uma conexão direcionada.\n",
        "\n",
        "Em seguida, calcule o grau total de cada nó (quantidade de conexões), sem distinguir entre entrada e saída."
      ]
    },
    {
      "cell_type": "code",
      "execution_count": null,
      "id": "f52ea531",
      "metadata": {
        "id": "f52ea531"
      },
      "outputs": [],
      "source": [
        "# Verificar o grau de cada nó\n",
        "print(\"Grau dos nós (número de conexões):\", dict(D_viagem.degree))"
      ]
    },
    {
      "cell_type": "markdown",
      "id": "f7eeb0dd",
      "metadata": {
        "id": "f7eeb0dd"
      },
      "source": [
        "**`D_viagem.degree`**: Retorna o grau de cada nó no digrafo **`D_viagem`**, que representa o número de conexões associadas a cada nó.  \n",
        "**`dict(D_viagem.degree)`**: Converte o resultado em um dicionário, onde cada chave é o nó (cidade) e o valor associado é o seu grau, ou seja, o número de conexões desse nó.  \n",
        "**`print`**: Exibe o dicionário resultante, mostrando o nome de cada nó e o número de conexões (arestas) que ele possui.\n",
        "\n",
        "Após verificar o grau total, separe as conexões em graus de entrada e saída."
      ]
    },
    {
      "cell_type": "code",
      "execution_count": null,
      "id": "a64da7d5",
      "metadata": {
        "id": "a64da7d5"
      },
      "outputs": [],
      "source": [
        "# Grau total dos nós\n",
        "print(\"Grau total dos nós:\", dict(D_viagem.degree))\n",
        "\n",
        "# Grau de saída dos nós\n",
        "print(\"Grau de saída dos nós:\", dict(D_viagem.out_degree))\n",
        "\n",
        "# Grau de entrada dos nós\n",
        "print(\"Grau de entrada dos nós:\", dict(D_viagem.in_degree))"
      ]
    },
    {
      "cell_type": "markdown",
      "id": "bc61d067",
      "metadata": {
        "id": "bc61d067"
      },
      "source": [
        "Esse código examina três tipos de graus associados aos nós em um **digrafo**: o grau total, o grau de saída e o grau de entrada.\n",
        "\n",
        "- **`D_viagem.degree`**: Retorna o **grau total** de cada nó.\n",
        "- **`D_viagem.out_degree`**: Retorna o **grau de saída** de cada nó, ou seja, quantas conexões o nó faz para outros nós.\n",
        "- **`D_viagem.in_degree`**: Retorna o **grau de entrada** de cada nó, representando o número de arestas que entram no nó.\n",
        "\n",
        "Os resultados mostram como cada capital se comporta em termos de conexões dentro do digrafo, com **São Paulo** sendo um nó mais central (com um grau total de 3), enquanto **Vitória** é um nó de destino final, recebendo duas conexões, mas sem emitir nenhuma.\n",
        "\n",
        "Agora seu markdown está formatado corretamente para uso no Jupyter Book, com todas as células de código adequadamente indicadas.\n",
        "\n",
        "\n",
        "\n",
        "\n",
        "\n",
        "Vamos analisar os **sucessores** (os nós para os quais uma determinada capital faz conexões) e os **antecessores** (os nós que se conectam a essa capital) para cada cidade no nosso digrafo. Começaremos pela cidade de **Curitiba**."
      ]
    },
    {
      "cell_type": "code",
      "execution_count": null,
      "id": "f84b29bb",
      "metadata": {
        "id": "f84b29bb"
      },
      "outputs": [],
      "source": [
        "# Sucessores e antecessores de Curitiba\n",
        "sucessores_curitiba = list(D_viagem.successors('Curitiba'))\n",
        "antecessores_curitiba = list(D_viagem.predecessors('Curitiba'))\n",
        "\n",
        "print(f\"Sucessores de Curitiba: {sucessores_curitiba}\")\n",
        "print(f\"Antecessores de Curitiba: {antecessores_curitiba}\")"
      ]
    },
    {
      "cell_type": "markdown",
      "id": "07d10ece",
      "metadata": {
        "id": "07d10ece"
      },
      "source": [
        "Agora, verificamos os sucessores e antecessores de São Paulo."
      ]
    },
    {
      "cell_type": "code",
      "execution_count": null,
      "id": "4ce65e4f",
      "metadata": {
        "id": "4ce65e4f"
      },
      "outputs": [],
      "source": [
        "# Sucessores e antecessores de São Paulo\n",
        "sucessores_sao_paulo = list(D_viagem.successors('São Paulo'))\n",
        "antecessores_sao_paulo = list(D_viagem.predecessors('São Paulo'))\n",
        "\n",
        "print(f\"Sucessores de São Paulo: {sucessores_sao_paulo}\")\n",
        "print(f\"Antecessores de São Paulo: {antecessores_sao_paulo}\")"
      ]
    },
    {
      "cell_type": "markdown",
      "id": "64f5e049",
      "metadata": {
        "id": "64f5e049"
      },
      "source": [
        "Aqui, analisamos os sucessores e antecessores do Rio de Janeiro."
      ]
    },
    {
      "cell_type": "code",
      "execution_count": null,
      "id": "a40befa1",
      "metadata": {
        "id": "a40befa1"
      },
      "outputs": [],
      "source": [
        "# Sucessores e antecessores de Rio de Janeiro\n",
        "sucessores_rio = list(D_viagem.successors('Rio de Janeiro'))\n",
        "antecessores_rio = list(D_viagem.predecessors('Rio de Janeiro'))\n",
        "\n",
        "print(f\"Sucessores de Rio de Janeiro: {sucessores_rio}\")\n",
        "print(f\"Antecessores de Rio de Janeiro: {antecessores_rio}\")"
      ]
    },
    {
      "cell_type": "markdown",
      "id": "586465df",
      "metadata": {
        "id": "586465df"
      },
      "source": [
        "Agora, fazemos a análise dos sucessores e antecessores de Belo Horizonte."
      ]
    },
    {
      "cell_type": "code",
      "execution_count": null,
      "id": "2e8e7e9f",
      "metadata": {
        "id": "2e8e7e9f"
      },
      "outputs": [],
      "source": [
        "# Sucessores e antecessores de Belo Horizonte\n",
        "sucessores_bh = list(D_viagem.successors('Belo Horizonte'))\n",
        "antecessores_bh = list(D_viagem.predecessors('Belo Horizonte'))\n",
        "\n",
        "print(f\"Sucessores de Belo Horizonte: {sucessores_bh}\")\n",
        "print(f\"Antecessores de Belo Horizonte: {antecessores_bh}\")"
      ]
    },
    {
      "cell_type": "markdown",
      "id": "936e176d",
      "metadata": {
        "id": "936e176d"
      },
      "source": [
        "Por fim, verificamos os sucessores e antecessores de Vitória."
      ]
    },
    {
      "cell_type": "code",
      "execution_count": null,
      "id": "b138a441",
      "metadata": {
        "id": "b138a441"
      },
      "outputs": [],
      "source": [
        "# Sucessores e antecessores de Vitória\n",
        "sucessores_vitoria = list(D_viagem.successors('Vitória'))\n",
        "antecessores_vitoria = list(D_viagem.predecessors('Vitória'))\n",
        "\n",
        "print(f\"Sucessores de Vitória: {sucessores_vitoria}\")\n",
        "print(f\"Antecessores de Vitória: {antecessores_vitoria}\")"
      ]
    },
    {
      "cell_type": "markdown",
      "id": "2e9e1f4a",
      "metadata": {
        "id": "2e9e1f4a"
      },
      "source": [
        "### **1.4.1 - Encontrando o Caminho Mais Curto no Digrafo**\n",
        "\n",
        "Nesta etapa do exercício, você aprenderá a utilizar a função `shortest_path` da biblioteca `networkx` para encontrar o caminho mais curto entre dois nós em um digrafo, considerando o peso das arestas, que neste caso representa as distâncias entre as capitais. Aplicaremos essa função ao digrafo que criamos, identificando a rota mais curta entre **Curitiba** e **Vitória**. Além disso, vamos visualizar esse caminho diretamente no grafo, destacando-o para facilitar a interpretação.\n",
        "\n",
        "Primeiramente, vamos calcular o caminho mais curto entre Curitiba e Vitória, usando as distâncias nas arestas como critério de peso."
      ]
    },
    {
      "cell_type": "code",
      "execution_count": null,
      "id": "e8274b1e",
      "metadata": {
        "id": "e8274b1e"
      },
      "outputs": [],
      "source": [
        "# Encontrando o caminho mais curto de Curitiba até Vitória, baseado na distância\n",
        "caminho_mais_curto = nx.shortest_path(D_viagem, source='Curitiba', target='Vitória', weight='distancia')\n",
        "\n",
        "# Exibindo o caminho mais curto\n",
        "print(f\"Caminho mais curto de Curitiba até Vitória: {caminho_mais_curto}\")"
      ]
    },
    {
      "cell_type": "markdown",
      "id": "17255f38",
      "metadata": {
        "id": "17255f38"
      },
      "source": [
        "No código acima:\n",
        "\n",
        "- **`nx.shortest_path()`**: Esta é uma função da biblioteca `networkx` que encontra o **caminho mais curto** entre dois nós em um grafo.\n",
        "- **`D_viagem`**: O **digrafo** representando as capitais brasileiras e as rotas entre elas.\n",
        "- **`source='Curitiba'`**: Especifica o nó de origem, **Curitiba**.\n",
        "- **`target='Vitória'`**: Indica o nó de destino, **Vitória**.\n",
        "- **`weight='distancia'`**: Define que o critério para o caminho mais curto será a **distância** entre as capitais.\n",
        "- **`caminho_mais_curto`**: Armazena o resultado da função, que é o caminho mais curto entre **Curitiba** e **Vitória** levando em consideração as distâncias.\n",
        "\n",
        "O resultado mostra o caminho mais curto de **Curitiba** até **Vitória**, considerando as distâncias entre as capitais no grafo direcionado:\n",
        "\n",
        "**Caminho mais curto de Curitiba até Vitória**:\n",
        "```['Curitiba', 'São Paulo', 'Rio de Janeiro', 'Vitória']```\n",
        "\n",
        "Este caminho minimiza a soma das distâncias entre essas cidades.\n",
        "\n",
        "Após determinar o caminho mais curto, vamos calcular a distância total percorrida. Utilizaremos a função `shortest_path_length` para calcular o comprimento total do caminho, considerando o mesmo peso (distância)."
      ]
    },
    {
      "cell_type": "code",
      "execution_count": null,
      "id": "90d6d1e1",
      "metadata": {
        "id": "90d6d1e1"
      },
      "outputs": [],
      "source": [
        "# Calculando o comprimento (distância total) do caminho mais curto\n",
        "distancia_caminho_mais_curto = nx.shortest_path_length(D_viagem, source='Curitiba', target='Vitória', weight='distancia')\n",
        "\n",
        "# Exibindo a distância total\n",
        "print(f\"Distância total do caminho mais curto de Curitiba até Vitória: {distancia_caminho_mais_curto} km\")"
      ]
    },
    {
      "cell_type": "markdown",
      "id": "ec22ab53",
      "metadata": {
        "id": "ec22ab53"
      },
      "source": [
        "Este código calcula a **distância total** do caminho mais curto encontrado entre **Curitiba** e **Vitória**, levando em consideração o peso das arestas (distância em quilômetros).\n",
        "\n",
        "Agora que temos o caminho e a distância total, vamos visualizar esse caminho no grafo. Para isso, destacaremos as arestas que fazem parte do caminho mais curto, colorindo-as de uma cor diferente das outras."
      ]
    },
    {
      "cell_type": "code",
      "execution_count": null,
      "id": "554ab315",
      "metadata": {
        "id": "554ab315"
      },
      "outputs": [],
      "source": [
        "# Plotando o grafo e destacando o caminho mais curto\n",
        "plt.figure(figsize=(10, 8))\n",
        "# Usando um layout para organizar a posição dos nós\n",
        "pos = nx.spring_layout(D_viagem, seed=42)\n",
        "# Desenhando todos os nós\n",
        "nx.draw_networkx_nodes(D_viagem, pos, node_color='lightblue', node_size=800)\n",
        "# Desenhando todas as arestas\n",
        "nx.draw_networkx_edges(D_viagem, pos, edgelist=D_viagem.edges(), edge_color='gray', width=2)\n",
        "# Destacando o caminho mais curto (arestas)\n",
        "nx.draw_networkx_edges(D_viagem, pos, edgelist=list(zip(caminho_mais_curto, caminho_mais_curto[1:])),\n",
        "                       edge_color='blue', width=3)\n",
        "# Desenhando os rótulos (nomes das capitais)\n",
        "nx.draw_networkx_labels(D_viagem, pos, font_size=9, font_weight='bold')\n",
        "# Adicionando rótulos de distâncias nas arestas\n",
        "edge_labels = nx.get_edge_attributes(D_viagem, 'distancia')\n",
        "nx.draw_networkx_edge_labels(D_viagem, pos, edge_labels=edge_labels)\n",
        "# Exibindo o gráfico\n",
        "plt.title(\"Caminho Mais Curto de Curitiba até Vitória (Baseado na Distância)\")\n",
        "plt.show()"
      ]
    },
    {
      "cell_type": "markdown",
      "id": "faa85217",
      "metadata": {
        "id": "faa85217"
      },
      "source": [
        "### **1.4.2 Calculando o Caminho com Menor Soma de Populações**\n",
        "\n",
        "O objetivo desta parte do exercício é calcular o caminho que minimize a soma das populações ao longo do trajeto entre **Curitiba** e **Vitória**. Para isso, primeiro vamos adicionar o atributo **\"população\"** aos nós do digrafo, onde cada nó representa uma capital brasileira. Em seguida, utilizaremos uma função personalizada para realizar o cálculo e, por fim, visualizaremos esse caminho no grafo.\n",
        "\n",
        "O primeiro passo é verificar se os nós do grafo (as capitais) já possuem o atributo **população**. Vamos percorrer todos os nós e imprimir os resultados."
      ]
    },
    {
      "cell_type": "code",
      "execution_count": null,
      "id": "e81d4884",
      "metadata": {
        "id": "e81d4884"
      },
      "outputs": [],
      "source": [
        "# Verificando se todos os nós possuem o atributo 'populacao'\n",
        "for no, dados in D_viagem.nodes(data=True):\n",
        "    if 'populacao' in dados:\n",
        "        print(f\"O nó {no} tem a população: {dados['populacao']}\")\n",
        "    else:\n",
        "        print(f\"O nó {no} não tem o atributo 'populacao'\")"
      ]
    },
    {
      "cell_type": "markdown",
      "id": "6192039f",
      "metadata": {
        "id": "6192039f"
      },
      "source": [
        "---\n",
        "\n",
        "Agora que confirmamos a ausência do atributo **população** nos nós, vamos adicionar manualmente a população de cada capital ao grafo."
      ]
    },
    {
      "cell_type": "code",
      "execution_count": null,
      "id": "305f3630",
      "metadata": {
        "id": "305f3630"
      },
      "outputs": [],
      "source": [
        "# Inserindo o atributo 'populacao' nos nós do grafo D_viagem\n",
        "D_viagem.nodes['Curitiba']['populacao'] = 1963726\n",
        "D_viagem.nodes['São Paulo']['populacao'] = 12396372\n",
        "D_viagem.nodes['Rio de Janeiro']['populacao'] = 6747815\n",
        "D_viagem.nodes['Belo Horizonte']['populacao'] = 2521564\n",
        "D_viagem.nodes['Vitória']['populacao'] = 365855"
      ]
    },
    {
      "cell_type": "markdown",
      "id": "bf06b67d",
      "metadata": {
        "id": "bf06b67d"
      },
      "source": [
        "Após inserir os valores, vamos verificar novamente se cada nó contém o atributo **população** corretamente."
      ]
    },
    {
      "cell_type": "code",
      "execution_count": null,
      "id": "0fa24219",
      "metadata": {
        "id": "0fa24219"
      },
      "outputs": [],
      "source": [
        "# Verificando se os atributos foram inseridos corretamente\n",
        "for no, dados in D_viagem.nodes(data=True):\n",
        "    if 'populacao' in dados:\n",
        "        print(f\"O nó {no} tem a população: {dados['populacao']}\")\n",
        "    else:\n",
        "        print(f\"O nó {no} não tem o atributo 'populacao'\")"
      ]
    },
    {
      "cell_type": "markdown",
      "id": "fcc3512d",
      "metadata": {
        "id": "fcc3512d"
      },
      "source": [
        "Os atributos foram inseridos corretamente. Vamos criar uma função personalizada que calcula o peso das arestas com base na soma das populações dos nós adjacentes e, em seguida, utilizaremos essa função para encontrar o caminho que minimize a população total entre Curitiba e Vitória."
      ]
    },
    {
      "cell_type": "code",
      "execution_count": null,
      "id": "1cbe18d7",
      "metadata": {
        "id": "1cbe18d7"
      },
      "outputs": [],
      "source": [
        "# Função personalizada de peso, que retorna a soma das populações dos nós adjacentes\n",
        "def peso_populacao(u, v, d):\n",
        "    return D_viagem.nodes[u]['populacao'] + D_viagem.nodes[v]['populacao']\n",
        "\n",
        "# Calculando o caminho com menor soma de populações\n",
        "caminho_menor_populacao = nx.shortest_path(D_viagem, source='Curitiba', target='Vitória', weight=peso_populacao)\n",
        "\n",
        "# Exibindo o caminho com a menor soma de populações\n",
        "print(f\"Caminho com menor população total de Curitiba até Vitória: {caminho_menor_populacao}\")"
      ]
    },
    {
      "cell_type": "markdown",
      "id": "1ede8002",
      "metadata": {
        "id": "1ede8002"
      },
      "source": [
        "Agora que identificamos o caminho com a menor população total, vamos calcular a soma das populações ao longo desse caminho."
      ]
    },
    {
      "cell_type": "code",
      "execution_count": null,
      "id": "c1b02623",
      "metadata": {
        "id": "c1b02623"
      },
      "outputs": [],
      "source": [
        "# Calculando a população total do caminho\n",
        "populacao_total = sum(D_viagem.nodes[n]['populacao'] for n in caminho_menor_populacao)\n",
        "print(f\"População total ao longo do caminho: {populacao_total}\")"
      ]
    },
    {
      "cell_type": "markdown",
      "id": "48b0f3ca",
      "metadata": {
        "id": "48b0f3ca"
      },
      "source": [
        "Por fim, vamos visualizar o grafo, destacando em **vermelho** o caminho com a menor população total entre as capitais."
      ]
    },
    {
      "cell_type": "code",
      "execution_count": null,
      "id": "d89c0e72",
      "metadata": {
        "id": "d89c0e72"
      },
      "outputs": [],
      "source": [
        "# Plotando o grafo e destacando o caminho com menor população\n",
        "plt.figure(figsize=(10, 8))\n",
        "# Usando um layout para organizar a posição dos nós\n",
        "pos = nx.spring_layout(D_viagem, seed=42)\n",
        "# Desenhando todos os nós\n",
        "nx.draw_networkx_nodes(D_viagem, pos, node_color='lightblue', node_size=800)\n",
        "# Desenhando todas as arestas\n",
        "nx.draw_networkx_edges(D_viagem, pos, edgelist=D_viagem.edges(), edge_color='gray', width=2)\n",
        "# Destacando o caminho com menor população (arestas)\n",
        "nx.draw_networkx_edges(D_viagem, pos, edgelist=list(zip(caminho_menor_populacao, caminho_menor_populacao[1:])),\n",
        "                       edge_color='red', width=3)\n",
        "# Desenhando os rótulos (nomes das capitais)\n",
        "nx.draw_networkx_labels(D_viagem, pos, font_size=9, font_weight='bold')\n",
        "# Adicionando rótulos de distâncias nas arestas\n",
        "edge_labels = nx.get_edge_attributes(D_viagem, 'distancia')\n",
        "nx.draw_networkx_edge_labels(D_viagem, pos, edge_labels=edge_labels)\n",
        "# Exibindo o gráfico\n",
        "plt.title(\"Caminho com Menor População Total de Curitiba até Vitória\")\n",
        "plt.show()"
      ]
    },
    {
      "cell_type": "markdown",
      "id": "f29520cc",
      "metadata": {
        "id": "f29520cc"
      },
      "source": [
        "## **1.5 Criando um Multigrafo no NetworkX**\n",
        "\n",
        "Neste exercício, vamos criar um **multigrafo**, que permite a existência de várias arestas entre os mesmos nós, representando diferentes tipos de conexão entre as cidades. Vamos criar múltiplas conexções entre **Belo Horizonte** e **Vitória**, representando diferentes modos de transporte: **rodovia**, **ferrovia** e **via aérea**. Em seguida, visualizaremos essas conexões no grafo, destacando cada uma delas com arcos para evitar sobreposição.\n",
        "\n",
        "O primeiro passo é criar o **multigrafo**, que permitirá adicionar várias arestas entre os mesmos nós, representando diferentes modos de transporte."
      ]
    },
    {
      "cell_type": "code",
      "execution_count": null,
      "id": "30585ca8",
      "metadata": {
        "id": "30585ca8"
      },
      "outputs": [],
      "source": [
        "# Criando um multigrafo\n",
        "G_multi = nx.MultiGraph()"
      ]
    },
    {
      "cell_type": "markdown",
      "id": "d2e9c272",
      "metadata": {
        "id": "d2e9c272"
      },
      "source": [
        "Agora, vamos adicionar os nós ao multigrafo. Neste caso, os nós representarão as cidades **Belo Horizonte** e **Vitória**."
      ]
    },
    {
      "cell_type": "code",
      "execution_count": null,
      "id": "6611ea5d",
      "metadata": {
        "id": "6611ea5d"
      },
      "outputs": [],
      "source": [
        "# Adicionando os nós (cidades)\n",
        "G_multi.add_node('Belo Horizonte')\n",
        "G_multi.add_node('Vitória')"
      ]
    },
    {
      "cell_type": "markdown",
      "id": "b8216124",
      "metadata": {
        "id": "b8216124"
      },
      "source": [
        "Esses nós servirão como os pontos de partida e chegada para as múltiplas arestas que iremos adicionar.\n",
        "\n",
        "Em seguida, adicionamos múltiplas arestas entre as cidades. Cada aresta representará um tipo de transporte, como **rodovia**, **ferrovia**, e **via aérea**, com suas respectivas distâncias."
      ]
    },
    {
      "cell_type": "code",
      "execution_count": null,
      "id": "7db1d95e",
      "metadata": {
        "id": "7db1d95e"
      },
      "outputs": [],
      "source": [
        "# Adicionando múltiplas arestas entre os nós Belo Horizonte e Vitória\n",
        "G_multi.add_edge('Belo Horizonte', 'Vitória', key='rodovia', tipo='rodovia', distancia=524)\n",
        "G_multi.add_edge('Belo Horizonte', 'Vitória', key='ferrovia', tipo='ferrovia', distancia=664)\n",
        "G_multi.add_edge('Belo Horizonte', 'Vitória', key='via_aerea', tipo='via aérea', distancia=450)"
      ]
    },
    {
      "cell_type": "markdown",
      "id": "65401661",
      "metadata": {
        "id": "65401661"
      },
      "source": [
        "Aqui, estamos usando a opção `key` para diferenciar as arestas que conectam os mesmos nós, mas com tipos de transporte e distâncias diferentes.\n",
        "\n",
        "Depois de adicionar as arestas, vamos exibir todas as conexões (arestas) criadas no multigrafo, juntamente com os atributos associados a elas (tipo de transporte e distância)."
      ]
    },
    {
      "cell_type": "code",
      "execution_count": null,
      "id": "e95c9928",
      "metadata": {
        "id": "e95c9928"
      },
      "outputs": [],
      "source": [
        "# Exibindo as arestas e os atributos\n",
        "print(\"Arestas no multigrafo entre Belo Horizonte e Vitória:\")\n",
        "for u, v, k, d in G_multi.edges(keys=True, data=True):\n",
        "    print(f\"{u} -> {v}, Tipo: {d['tipo']}, Distância: {d['distancia']} km\")"
      ]
    },
    {
      "cell_type": "markdown",
      "id": "857d90ea",
      "metadata": {
        "id": "857d90ea"
      },
      "source": [
        "Agora, vamos visualizar o multigrafo. Para evitar que as múltiplas arestas entre os mesmos nós se sobreponham, criaremos arcos para representar cada tipo de transporte, facilitando a visualização."
      ]
    },
    {
      "cell_type": "code",
      "execution_count": null,
      "id": "73c564bd",
      "metadata": {
        "id": "73c564bd"
      },
      "outputs": [],
      "source": [
        "# Plotando o multigrafo com deslocamento nas arestas\n",
        "plt.figure(figsize=(6, 6))\n",
        "pos = nx.spring_layout(G_multi)\n",
        "# Desenhando nós\n",
        "nx.draw(G_multi, pos, with_labels=True, node_size=700, node_color='lightblue', font_size=10)\n",
        "# Desenhando arestas com diferentes arcos para não sobreporem\n",
        "nx.draw_networkx_edges(G_multi, pos, edgelist=[('Belo Horizonte', 'Vitória', 'rodovia')],\n",
        "                       connectionstyle='arc3,rad=0.2', edge_color='black')\n",
        "nx.draw_networkx_edges(G_multi, pos, edgelist=[('Belo Horizonte', 'Vitória', 'ferrovia')],\n",
        "                       connectionstyle='arc3,rad=-0.2', edge_color='black')\n",
        "nx.draw_networkx_edges(G_multi, pos, edgelist=[('Belo Horizonte', 'Vitória', 'via_aerea')],\n",
        "                       connectionstyle='arc3,rad=0', edge_color='black')\n",
        "# Adicionando rótulos para as arestas\n",
        "nx.draw_networkx_edge_labels(G_multi, pos, edge_labels={(u, v, k): d['tipo'] for u, v, k, d in G_multi.edges(keys=True, data=True)})\n",
        "plt.title(\"Multigrafo: Conexões entre Belo Horizonte e Vitória (Rodovia, Ferrovia, Via Aérea)\")\n",
        "plt.show()"
      ]
    },
    {
      "cell_type": "markdown",
      "id": "ef643fb5",
      "metadata": {
        "id": "ef643fb5"
      },
      "source": [
        "No códico acima:\n",
        "\n",
        "`pos = nx.spring_layout(G_multi)`:  Essa linha calcula a posição dos nós no grafo utilizando o layout de mola (spring layout). Esse layout funciona como se houvesse forças de repulsão e atração entre os nós, criando uma distribuição mais equilibrada no espaço. A variável `pos` armazena as coordenadas de cada nó geradas pelo layout, que serão usadas para desenhar os nós e as arestas do multigrafo.\n",
        "\n",
        "`nx.draw(G_multi, pos, with_labels=True, node_size=700, node_color='lightblue', font_size=10)`:  \n",
        "- `nx.draw()`: Esta função desenha o grafo no layout especificado.  \n",
        "- `G_multi`: O multigrafo que está sendo desenhado.  \n",
        "- `pos`: As posições dos nós (calculadas pelo `spring_layout`), garantindo que os nós e as arestas sejam desenhados nos locais corretos.  \n",
        "- `with_labels=True`: Exibe os rótulos dos nós (os nomes das cidades, no caso).  \n",
        "- `node_size=700`: Define o tamanho dos nós no gráfico, tornando-os grandes o suficiente para serem bem visíveis.  \n",
        "- `node_color='lightblue'`: Define a cor dos nós como azul-claro.  \n",
        "- `font_size=10`: Define o tamanho da fonte dos rótulos dos nós como 10.\n",
        "\n",
        "`nx.draw_networkx_edges()`:  \n",
        "Essa função desenha as arestas (conexões) entre os nós no grafo.  \n",
        "- `edgelist=[('Belo Horizonte', 'Vitória', 'rodovia')]`: Especifica que estamos desenhando a aresta que representa a **rodovia** entre **Belo Horizonte** e **Vitória**.  \n",
        "- `connectionstyle='arc3,rad=0.2'`: Define o estilo da conexão. O valor `arc3,rad=0.2` indica que a aresta deve ser desenhada como um arco curvado, com uma curvatura (raio) de 0,2. Isso impede que as arestas se sobreponham e facilita a visualização de várias conexões entre os mesmos nós.  \n",
        "- `edge_color='black'`: Define a cor da aresta como preta."
      ]
    }
  ],
  "metadata": {
    "kernelspec": {
      "display_name": "Python 3",
      "language": "python",
      "name": "python3"
    },
    "colab": {
      "provenance": []
    }
  },
  "nbformat": 4,
  "nbformat_minor": 5
}