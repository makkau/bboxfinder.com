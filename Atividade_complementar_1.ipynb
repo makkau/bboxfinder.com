{
  "nbformat": 4,
  "nbformat_minor": 0,
  "metadata": {
    "colab": {
      "provenance": [],
      "authorship_tag": "ABX9TyOYK2uM3jnTtnZyv9pPT/39",
      "include_colab_link": true
    },
    "kernelspec": {
      "name": "python3",
      "display_name": "Python 3"
    },
    "language_info": {
      "name": "python"
    }
  },
  "cells": [
    {
      "cell_type": "markdown",
      "metadata": {
        "id": "view-in-github",
        "colab_type": "text"
      },
      "source": [
        "<a href=\"https://colab.research.google.com/github/makkau/bboxfinder.com/blob/master/Atividade_complementar_1.ipynb\" target=\"_parent\"><img src=\"https://colab.research.google.com/assets/colab-badge.svg\" alt=\"Open In Colab\"/></a>"
      ]
    },
    {
      "cell_type": "markdown",
      "source": [
        "MARIA CLAUDIA OLIVEIRA | ESPECIALIZAÇÃO EM GEOPROCESSAMENTO - UFABC\n",
        "INTRODUÇÃO À PROGRAMAÇÃO PARA GEOPROCESSAMENTO\n",
        "PROF. DR. ALEXANDRO SCHAFER\n",
        "\n",
        "Exercício 1 - Variáveis e Impressão de Dados"
      ],
      "metadata": {
        "id": "9up991Av7jmw"
      }
    },
    {
      "cell_type": "code",
      "execution_count": 1,
      "metadata": {
        "colab": {
          "base_uri": "https://localhost:8080/",
          "height": 0
        },
        "id": "M1DaIbaGuzHW",
        "outputId": "85c4e955-0486-4684-b133-3850285fc12f"
      },
      "outputs": [
        {
          "output_type": "stream",
          "name": "stdout",
          "text": [
            "Rio\n"
          ]
        }
      ],
      "source": [
        "cidade = \"Rio\"\n",
        "print(cidade)"
      ]
    },
    {
      "cell_type": "markdown",
      "source": [
        "Exercício 2 - Entrada de dados"
      ],
      "metadata": {
        "id": "hZWL0Ot37fCS"
      }
    },
    {
      "cell_type": "code",
      "source": [
        "area=input(\"Digite a área do município em km2\")\n",
        "area=float(area)\n",
        "print(\"A área do município é:\",area, \"km2\")"
      ],
      "metadata": {
        "colab": {
          "base_uri": "https://localhost:8080/",
          "height": 0
        },
        "id": "D3VIUFwQvSzG",
        "outputId": "2deab891-92f6-43d6-cc8d-27a0aad1b401"
      },
      "execution_count": 6,
      "outputs": [
        {
          "output_type": "stream",
          "name": "stdout",
          "text": [
            "Digite a área do município em km22\n",
            "A área do município é: 2.0 km2\n"
          ]
        }
      ]
    },
    {
      "cell_type": "markdown",
      "source": [
        "Exercício 3 - Tipos de dados - Inteiros e Floats"
      ],
      "metadata": {
        "id": "RKWikzC27a4I"
      }
    },
    {
      "cell_type": "code",
      "source": [
        "habitantes=input(\"Digite o número de habitantes do municipio\")\n",
        "habitantes=int(habitantes)\n",
        "altitude=input(\"Digite a altitude média do município em metros\")\n",
        "altitude=int(altitude)\n",
        "print(\"A população do município é:\",habitantes, \"habitantes\")\n",
        "print(\"A altitude média do município é:\",altitude, \"metros\")\n",
        "\n"
      ],
      "metadata": {
        "colab": {
          "base_uri": "https://localhost:8080/",
          "height": 0
        },
        "id": "oezetNyF4oPu",
        "outputId": "db9f30c0-3f39-4458-a455-40b2d1de8d29"
      },
      "execution_count": 15,
      "outputs": [
        {
          "output_type": "stream",
          "name": "stdout",
          "text": [
            "Digite o número de habitantes do municipio45\n",
            "Digite a altitude média do município em metros985\n",
            "A população do município é: 45 habitantes\n",
            "A altitude média do município é: 985 metros\n"
          ]
        }
      ]
    },
    {
      "cell_type": "markdown",
      "source": [
        "Exercício 4 - Operadores Aritméticos\n"
      ],
      "metadata": {
        "id": "c6iRtxNh7pFC"
      }
    },
    {
      "cell_type": "code",
      "source": [
        "populacao_urbana = input(\"Digite o número de habitantes da área urbana \")\n",
        "populacao_urbana = int(populacao_urbana)\n",
        "populacao_rural = input(\"Digite o número de habitantes da área rural \")\n",
        "populacao_rural = int(populacao_rural)\n",
        "populacao_total = populacao_urbana + populacao_rural\n",
        "print(\"A população total do município é:\", populacao_total, \"habitantes\")\n",
        "#"
      ],
      "metadata": {
        "colab": {
          "base_uri": "https://localhost:8080/",
          "height": 0
        },
        "id": "QXFGip2L7sOg",
        "outputId": "71f6b1f5-a55c-4745-b623-2080cc2d3b29"
      },
      "execution_count": 20,
      "outputs": [
        {
          "output_type": "stream",
          "name": "stdout",
          "text": [
            "Digite o número de habitantes da área urbana 1\n",
            "Digite o número de habitantes da área rural 2\n",
            "A população total do município é: 3 habitantes\n"
          ]
        }
      ]
    },
    {
      "cell_type": "markdown",
      "source": [
        "Exercício 5 - Booleanos - Comparação de números\n"
      ],
      "metadata": {
        "id": "vNtAlhW68Rto"
      }
    },
    {
      "cell_type": "code",
      "source": [
        "area_1 = 250\n",
        "area_2 = 150\n",
        "area_1> area_2\n"
      ],
      "metadata": {
        "colab": {
          "base_uri": "https://localhost:8080/",
          "height": 0
        },
        "id": "oeq1j2TA8VRC",
        "outputId": "91e28e0a-7a2c-47c2-a707-ba63e40bec2d"
      },
      "execution_count": 25,
      "outputs": [
        {
          "output_type": "execute_result",
          "data": {
            "text/plain": [
              "True"
            ]
          },
          "metadata": {},
          "execution_count": 25
        }
      ]
    },
    {
      "cell_type": "markdown",
      "source": [
        "Exercício 6 - Listas - Criando e acessando elementos\n"
      ],
      "metadata": {
        "id": "489loaYx9p77"
      }
    },
    {
      "cell_type": "code",
      "source": [
        "biomas = \"Amazônia\", \"Cerrado\", \"Pantanal\"\n",
        "print (biomas[1])"
      ],
      "metadata": {
        "colab": {
          "base_uri": "https://localhost:8080/",
          "height": 0
        },
        "id": "tMPssORV9t20",
        "outputId": "d0f0e7c5-5217-4375-8b18-01488602814e"
      },
      "execution_count": 27,
      "outputs": [
        {
          "output_type": "stream",
          "name": "stdout",
          "text": [
            "Cerrado\n"
          ]
        }
      ]
    },
    {
      "cell_type": "markdown",
      "source": [
        "Exercício 7 - Usando append para adicionar um novo bioma"
      ],
      "metadata": {
        "id": "BujW0tLs-mMQ"
      }
    },
    {
      "cell_type": "code",
      "source": [
        "biomas = [\"Amazônia\", \"Cerrado\", \"Pantanal\"]\n",
        "biomas.append(\"Mata Atlântica\")\n",
        "print(biomas)"
      ],
      "metadata": {
        "colab": {
          "base_uri": "https://localhost:8080/",
          "height": 0
        },
        "id": "-edAx9aQ_WIh",
        "outputId": "a8137d39-93c8-4b2f-cf9d-b9f2f9966f55"
      },
      "execution_count": 30,
      "outputs": [
        {
          "output_type": "stream",
          "name": "stdout",
          "text": [
            "['Amazônia', 'Cerrado', 'Pantanal', 'Mata Atlântica']\n"
          ]
        }
      ]
    },
    {
      "cell_type": "markdown",
      "source": [
        "Exercício 8 - Contando elementos em uma lista"
      ],
      "metadata": {
        "id": "n9lx1tLr_V09"
      }
    },
    {
      "cell_type": "code",
      "source": [
        "numero_de_biomas = len(biomas)\n",
        "print(numero_de_biomas)"
      ],
      "metadata": {
        "colab": {
          "base_uri": "https://localhost:8080/",
          "height": 0
        },
        "id": "MSJunupU_qcb",
        "outputId": "48b26b7e-596f-438a-94c5-248473b00bb1"
      },
      "execution_count": 31,
      "outputs": [
        {
          "output_type": "stream",
          "name": "stdout",
          "text": [
            "4\n"
          ]
        }
      ]
    },
    {
      "cell_type": "markdown",
      "source": [
        "Exercício 9 - Armazenamento de Coordenadas Geográficas em uma Tupla\n"
      ],
      "metadata": {
        "id": "RRJyB9N0BF2v"
      }
    },
    {
      "cell_type": "code",
      "source": [
        "coordenadas_brasilia = (-15.7939, -47.8828)\n",
        "print(\"As coordenadas geográficas de Brasília são\", coordenadas_brasilia, \"latitude e longitude\")"
      ],
      "metadata": {
        "colab": {
          "base_uri": "https://localhost:8080/",
          "height": 0
        },
        "id": "l3Yh5AxhBNe4",
        "outputId": "de60f8c3-5db3-48d1-b41a-707985672015"
      },
      "execution_count": 33,
      "outputs": [
        {
          "output_type": "stream",
          "name": "stdout",
          "text": [
            "As coordenadas geográficas de Brasília são (-15.7939, -47.8828) latitude e longitude\n"
          ]
        }
      ]
    },
    {
      "cell_type": "markdown",
      "source": [
        "Exercício 10 - Criação e Manipulação de um Dicionário"
      ],
      "metadata": {
        "id": "uKSf2CZfD1Mk"
      }
    },
    {
      "cell_type": "code",
      "source": [
        "dados_municipio = {'nome': 'São Paulo', 'populacao': 12325232, 'area_km2': 1521.11}\n",
        "dados_municipio['densidade_demografica'] = dados_municipio['populacao'] / dados_municipio['area_km2']\n",
        "print(dados_municipio)"
      ],
      "metadata": {
        "colab": {
          "base_uri": "https://localhost:8080/",
          "height": 0
        },
        "id": "YJopSE84I_z0",
        "outputId": "fbb3cc6a-76d8-44de-fc25-752a1684caa0"
      },
      "execution_count": 51,
      "outputs": [
        {
          "output_type": "stream",
          "name": "stdout",
          "text": [
            "{'nome': 'São Paulo', 'populacao': 12325232, 'area_km2': 1521.11, 'densidade_demografica': 8102.788095535498}\n"
          ]
        }
      ]
    }
  ]
}